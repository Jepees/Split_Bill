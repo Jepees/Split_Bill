{
 "cells": [
  {
   "cell_type": "code",
   "execution_count": 3,
   "metadata": {},
   "outputs": [
    {
     "name": "stdout",
     "output_type": "stream",
     "text": [
      "The autoreload extension is already loaded. To reload it, use:\n",
      "  %reload_ext autoreload\n"
     ]
    }
   ],
   "source": [
    "%load_ext autoreload\n",
    "%autoreload 2\n"
   ]
  },
  {
   "cell_type": "code",
   "execution_count": 4,
   "metadata": {},
   "outputs": [],
   "source": [
    "from SplitBill import splitbill # Misal ada file `my_module.py`"
   ]
  },
  {
   "cell_type": "code",
   "execution_count": 6,
   "metadata": {},
   "outputs": [
    {
     "name": "stdout",
     "output_type": "stream",
     "text": [
      "pertama-tama kamu harus melakukan:\n",
      "- memasukan barang apa saja yang kamu pesan\n",
      "- berapa kuantitas masing-masing barangnya\n",
      "- berapa total bayar untuk masing-masing barangnya\n",
      "!!!ketik 'done' jika sudah semua barang kamu masukkan!!!\n",
      "\n",
      "berikut adalah harga satuan masing-masing barang setelah pajak!\n",
      "- sirloin import          : Rp89.999\n",
      "- lemon ice tea           : Rp21.000\n",
      "- chicken double cheese   : Rp48.999\n",
      "- chicken double          : Rp42.000\n",
      "- milkshake kurma caramel : Rp29.000\n",
      "- milkshake strawberry    : Rp23.999\n",
      "- chicken bbq             : Rp40.000\n",
      "- teh tawar hot           : Rp9.499\n",
      "- teh manis ice           : Rp13.999\n",
      "- beef steak              : Rp51.000\n",
      "- sirloin                 : Rp33.999\n",
      "\n",
      "selanjutnya kamu harus memasukkan nama-nama temanmu!\n",
      "\n",
      "masukkan quantitas barang yang dipesan oleh masing-masing temanmu!\n",
      "\n",
      "berikut adalah hasil split bill kalian!!\n",
      "Rincian Awal:\n",
      " - sirloin import : 1\n",
      " - lemon ice tea  : 1\n",
      "total bayar si Awal: Rp110.999\n",
      "\n",
      "Rincian Hilmy:\n",
      " - chicken double cheese   : 1\n",
      " - milkshake kurma caramel : 1\n",
      "total bayar si Hilmy: Rp77.999\n",
      "\n",
      "Rincian Izza:\n",
      " - chicken double       : 1\n",
      " - milkshake strawberry : 1\n",
      "total bayar si Izza: Rp65.999\n",
      "\n",
      "Rincian Alif:\n",
      " - teh manis ice : 1\n",
      " - beef steak    : 1\n",
      "total bayar si Alif: Rp64.999\n",
      "\n",
      "Rincian Ghofur:\n",
      " - chicken bbq   : 1\n",
      " - teh tawar hot : 1\n",
      "total bayar si Ghofur: Rp49.499\n",
      "\n",
      "Rincian Dani:\n",
      " - teh manis ice : 1\n",
      " - sirloin       : 1\n",
      "total bayar si Dani: Rp47.998\n",
      "\n",
      "\n",
      "pake ini kalo mau lebih gampang screenshot!!\n",
      "- Awal   : Rp110.999\n",
      "- Hilmy  : Rp77.999\n",
      "- Izza   : Rp65.999\n",
      "- Alif   : Rp64.999\n",
      "- Ghofur : Rp49.499\n",
      "- Dani   : Rp47.998\n",
      "\n",
      "Total: Rp417.493\n",
      "\n",
      "Terimakasih sudah menggunakan program saya 😉. kritik dan saran langsung ke IG aja @danihdyt_\n"
     ]
    }
   ],
   "source": [
    "gacoan = splitbill()\n",
    "gacoan.start_split()"
   ]
  },
  {
   "cell_type": "code",
   "execution_count": null,
   "metadata": {},
   "outputs": [],
   "source": []
  }
 ],
 "metadata": {
  "kernelspec": {
   "display_name": "Python 3",
   "language": "python",
   "name": "python3"
  },
  "language_info": {
   "codemirror_mode": {
    "name": "ipython",
    "version": 3
   },
   "file_extension": ".py",
   "mimetype": "text/x-python",
   "name": "python",
   "nbconvert_exporter": "python",
   "pygments_lexer": "ipython3",
   "version": "3.10.13"
  }
 },
 "nbformat": 4,
 "nbformat_minor": 2
}
