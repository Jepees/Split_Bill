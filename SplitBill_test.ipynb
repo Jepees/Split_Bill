{
 "cells": [
  {
   "cell_type": "code",
   "execution_count": 5,
   "metadata": {},
   "outputs": [
    {
     "name": "stdout",
     "output_type": "stream",
     "text": [
      "The autoreload extension is already loaded. To reload it, use:\n",
      "  %reload_ext autoreload\n"
     ]
    }
   ],
   "source": [
    "%load_ext autoreload\n",
    "%autoreload 2\n"
   ]
  },
  {
   "cell_type": "code",
   "execution_count": null,
   "metadata": {},
   "outputs": [],
   "source": [
    "from SplitBill import splitbill # Misal ada file `my_module.py`"
   ]
  },
  {
   "cell_type": "code",
   "execution_count": 7,
   "metadata": {},
   "outputs": [
    {
     "name": "stdout",
     "output_type": "stream",
     "text": [
      "pertama-tama kamu harus melakukan:\n",
      "- memasukan barang apa saja yang kamu pesan\n",
      "- berapa kuantitas masing-masing barangnya\n",
      "- berapa total bayar untuk masing-masing barangnya\n",
      "!!!ketik 'done' jika sudah semua barang kamu masukkan!!!\n",
      "\n",
      "berikut adalah harga satuan masing-masing barang setelah pajak!\n",
      "- dadar : Rp94.999\n",
      "- ett   : Rp22.180\n",
      "\n",
      "selanjutnya kamu harus memasukkan nama-nama temanmu!\n",
      "\n",
      "masukkan quantitas barang yang dipesan oleh masing-masing temanmu!\n",
      "\n",
      "berikut adalah hasil split bill kalian!!\n",
      "Rincian dani:\n",
      " - dadar : 2\n",
      " - ett   : 3\n",
      "total bayar si dani: Rp256.538\n",
      "\n",
      "Rincian tya:\n",
      " - dadar : 2\n",
      " - ett   : 3\n",
      "total bayar si tya: Rp256.538\n",
      "\n",
      "\n",
      "pake ini kalo mau lebih gampang screenshot!!\n",
      "- dani : Rp256.538\n",
      "- tya  : Rp256.538\n",
      "\n",
      "Total: Rp513.076\n",
      "\n",
      "Terimakasih sudah menggunakan program saya kritik dan saran langsung ke IG aja @danihdyt_\n"
     ]
    }
   ],
   "source": [
    "gacoan = splitbill()\n",
    "gacoan.start_split()"
   ]
  },
  {
   "cell_type": "code",
   "execution_count": null,
   "metadata": {},
   "outputs": [],
   "source": []
  }
 ],
 "metadata": {
  "kernelspec": {
   "display_name": "Python 3",
   "language": "python",
   "name": "python3"
  },
  "language_info": {
   "codemirror_mode": {
    "name": "ipython",
    "version": 3
   },
   "file_extension": ".py",
   "mimetype": "text/x-python",
   "name": "python",
   "nbconvert_exporter": "python",
   "pygments_lexer": "ipython3",
   "version": "3.10.13"
  }
 },
 "nbformat": 4,
 "nbformat_minor": 2
}
